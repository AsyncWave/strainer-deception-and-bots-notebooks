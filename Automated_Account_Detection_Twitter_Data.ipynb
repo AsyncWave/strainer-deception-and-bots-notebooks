{
 "cells": [
  {
   "cell_type": "markdown",
   "metadata": {},
   "source": [
    "# **Automatic Account Detection**"
   ]
  },
  {
   "cell_type": "markdown",
   "metadata": {},
   "source": [
    "Dataset From - https://www.kaggle.com/c/twitter-bot-classification | https://www.kaggle.com/charvijain27/detecting-twitter-bot-data"
   ]
  },
  {
   "cell_type": "markdown",
   "metadata": {},
   "source": [
    "**Libraries**"
   ]
  },
  {
   "cell_type": "code",
   "execution_count": 1,
   "metadata": {},
   "outputs": [
    {
     "name": "stdout",
     "output_type": "stream",
     "text": [
      "[nltk_data] Downloading package stopwords to C:\\Users\\Nishan\n",
      "[nltk_data]     Chathuranga\\AppData\\Roaming\\nltk_data...\n",
      "[nltk_data]   Package stopwords is already up-to-date!\n",
      "[nltk_data] Downloading package punkt to C:\\Users\\Nishan\n",
      "[nltk_data]     Chathuranga\\AppData\\Roaming\\nltk_data...\n",
      "[nltk_data]   Package punkt is already up-to-date!\n",
      "[nltk_data] Downloading package wordnet to C:\\Users\\Nishan\n",
      "[nltk_data]     Chathuranga\\AppData\\Roaming\\nltk_data...\n",
      "[nltk_data]   Package wordnet is already up-to-date!\n"
     ]
    },
    {
     "name": "stderr",
     "output_type": "stream",
     "text": [
      "C:\\ProgramData\\Anaconda3\\lib\\site-packages\\sklearn\\ensemble\\weight_boosting.py:29: DeprecationWarning: numpy.core.umath_tests is an internal NumPy module and should not be imported. It will be removed in a future NumPy release.\n",
      "  from numpy.core.umath_tests import inner1d\n"
     ]
    }
   ],
   "source": [
    "# Basic libraries\n",
    "import numpy as np\n",
    "import pandas as pd\n",
    "import pickle\n",
    "\n",
    "# Data Visualization\n",
    "import matplotlib.pyplot as plt\n",
    "import seaborn as sns\n",
    "%config InlineBackend.figure_format = 'retina'\n",
    "%matplotlib inline\n",
    "\n",
    "# Natural Language Processing\n",
    "from sklearn.feature_extraction import stop_words\n",
    "from sklearn.feature_extraction.text import CountVectorizer, TfidfVectorizer\n",
    "import re\n",
    "import string\n",
    "import nltk\n",
    "from nltk.tokenize import word_tokenize\n",
    "from nltk.corpus import stopwords\n",
    "nltk.download('stopwords')\n",
    "nltk.download('punkt')\n",
    "nltk.download('wordnet')\n",
    "from nltk.stem import PorterStemmer\n",
    "from nltk.stem import WordNetLemmatizer\n",
    "stemmer= PorterStemmer()\n",
    "lemmatizer=WordNetLemmatizer()\n",
    "\n",
    "# Modeling\n",
    "import sklearn.ensemble\n",
    "from sklearn.model_selection import train_test_split, GridSearchCV\n",
    "from sklearn import metrics\n",
    "from sklearn.metrics import accuracy_score, recall_score, precision_score, confusion_matrix,roc_curve,auc\n",
    "from imblearn.over_sampling import SMOTE"
   ]
  },
  {
   "cell_type": "code",
   "execution_count": 2,
   "metadata": {},
   "outputs": [],
   "source": [
    "url_bot_train = 'data/Bot/training_data_2_csv_UTF.csv'\n",
    "df_bot_train = pd.read_csv(url_bot_train)"
   ]
  },
  {
   "cell_type": "code",
   "execution_count": 3,
   "metadata": {},
   "outputs": [],
   "source": [
    "training_data = df_bot_train"
   ]
  },
  {
   "cell_type": "code",
   "execution_count": 4,
   "metadata": {},
   "outputs": [
    {
     "data": {
      "text/plain": [
       "<matplotlib.axes._subplots.AxesSubplot at 0x29f15482048>"
      ]
     },
     "execution_count": 4,
     "metadata": {},
     "output_type": "execute_result"
    },
    {
     "data": {
      "image/png": "[encoded data removed]",
      "text/plain": [
       "<matplotlib.figure.Figure at 0x29f152a0e10>"
      ]
     },
     "metadata": {
      "image/png": {
       "height": 263,
       "width": 397
      },
      "needs_background": "light"
     },
     "output_type": "display_data"
    }
   ],
   "source": [
    "sns.countplot(training_data['bot'])"
   ]
  },
  {
   "cell_type": "code",
   "execution_count": 5,
   "metadata": {},
   "outputs": [
    {
     "data": {
      "text/plain": [
       "id                          0\n",
       "id_str                      0\n",
       "screen_name                 0\n",
       "location                 1020\n",
       "description               403\n",
       "url                      1342\n",
       "followers_count             0\n",
       "friends_count               0\n",
       "listed_count                0\n",
       "created_at                  0\n",
       "favourites_count            0\n",
       "verified                    0\n",
       "statuses_count              0\n",
       "lang                        0\n",
       "status                    289\n",
       "default_profile             0\n",
       "default_profile_image       0\n",
       "has_extended_profile       99\n",
       "name                        0\n",
       "bot                         0\n",
       "dtype: int64"
      ]
     },
     "execution_count": 5,
     "metadata": {},
     "output_type": "execute_result"
    }
   ],
   "source": [
    "training_data.apply(lambda x: sum(x.isnull()))"
   ]
  },
  {
   "cell_type": "code",
   "execution_count": 6,
   "metadata": {},
   "outputs": [
    {
     "data": {
      "text/html": [
       "<div>\n",
       "<style scoped>\n",
       "    .dataframe tbody tr th:only-of-type {\n",
       "        vertical-align: middle;\n",
       "    }\n",
       "\n",
       "    .dataframe tbody tr th {\n",
       "        vertical-align: top;\n",
       "    }\n",
       "\n",
       "    .dataframe thead th {\n",
       "        text-align: right;\n",
       "    }\n",
       "</style>\n",
       "<table border=\"1\" class=\"dataframe\">\n",
       "  <thead>\n",
       "    <tr style=\"text-align: right;\">\n",
       "      <th></th>\n",
       "      <th>screen_name</th>\n",
       "      <th>location</th>\n",
       "      <th>description</th>\n",
       "      <th>url</th>\n",
       "      <th>created_at</th>\n",
       "      <th>lang</th>\n",
       "      <th>status</th>\n",
       "      <th>has_extended_profile</th>\n",
       "      <th>name</th>\n",
       "    </tr>\n",
       "  </thead>\n",
       "  <tbody>\n",
       "    <tr>\n",
       "      <th>0</th>\n",
       "      <td>\"HoustonPokeMap\"</td>\n",
       "      <td>\"Houston, TX\"</td>\n",
       "      <td>\"Rare and strong PokŽmon in Houston, TX. See m...</td>\n",
       "      <td>\"https://t.co/dnWuDbFRkt\"</td>\n",
       "      <td>\"Mon Jan 02 02:25:26 +0000 2017\"</td>\n",
       "      <td>\"en\"</td>\n",
       "      <td>{\\r      \"created_at\": \"Sun Mar 12 15:44:04 +0...</td>\n",
       "      <td>False</td>\n",
       "      <td>\"Houston PokŽ Alert\"</td>\n",
       "    </tr>\n",
       "    <tr>\n",
       "      <th>1</th>\n",
       "      <td>kernyeahx</td>\n",
       "      <td>Templeville town, MD, USA</td>\n",
       "      <td>From late 2014 Socium Marketplace will make sh...</td>\n",
       "      <td>NaN</td>\n",
       "      <td>2/1/2016 7:37</td>\n",
       "      <td>en</td>\n",
       "      <td>NaN</td>\n",
       "      <td>False</td>\n",
       "      <td>Keri Nelson</td>\n",
       "    </tr>\n",
       "    <tr>\n",
       "      <th>2</th>\n",
       "      <td>mattlieberisbot</td>\n",
       "      <td>NaN</td>\n",
       "      <td>Inspired by the smart, funny folks at @replyal...</td>\n",
       "      <td>https://t.co/P1e1o0m4KC</td>\n",
       "      <td>Fri Nov 20 18:53:22 +0000 2015</td>\n",
       "      <td>en</td>\n",
       "      <td>{'retweeted': False, 'is_quote_status': False,...</td>\n",
       "      <td>False</td>\n",
       "      <td>Matt Lieber Is Bot</td>\n",
       "    </tr>\n",
       "    <tr>\n",
       "      <th>3</th>\n",
       "      <td>sc_papers</td>\n",
       "      <td>NaN</td>\n",
       "      <td>NaN</td>\n",
       "      <td>NaN</td>\n",
       "      <td>2/25/2015 20:11</td>\n",
       "      <td>en</td>\n",
       "      <td>Construction of human anti-tetanus single-chai...</td>\n",
       "      <td>False</td>\n",
       "      <td>single cell papers</td>\n",
       "    </tr>\n",
       "    <tr>\n",
       "      <th>4</th>\n",
       "      <td>lucarivera16</td>\n",
       "      <td>Dublin, United States</td>\n",
       "      <td>Inspiring cooks everywhere since 1956.</td>\n",
       "      <td>NaN</td>\n",
       "      <td>1/1/2015 17:44</td>\n",
       "      <td>en</td>\n",
       "      <td>NaN</td>\n",
       "      <td>False</td>\n",
       "      <td>lucarivera16</td>\n",
       "    </tr>\n",
       "  </tbody>\n",
       "</table>\n",
       "</div>"
      ],
      "text/plain": [
       "        screen_name                   location  \\\n",
       "0  \"HoustonPokeMap\"              \"Houston, TX\"   \n",
       "1         kernyeahx  Templeville town, MD, USA   \n",
       "2   mattlieberisbot                        NaN   \n",
       "3         sc_papers                        NaN   \n",
       "4      lucarivera16      Dublin, United States   \n",
       "\n",
       "                                         description  \\\n",
       "0  \"Rare and strong PokŽmon in Houston, TX. See m...   \n",
       "1  From late 2014 Socium Marketplace will make sh...   \n",
       "2  Inspired by the smart, funny folks at @replyal...   \n",
       "3                                                NaN   \n",
       "4             Inspiring cooks everywhere since 1956.   \n",
       "\n",
       "                         url                        created_at  lang  \\\n",
       "0  \"https://t.co/dnWuDbFRkt\"  \"Mon Jan 02 02:25:26 +0000 2017\"  \"en\"   \n",
       "1                        NaN                     2/1/2016 7:37    en   \n",
       "2    https://t.co/P1e1o0m4KC    Fri Nov 20 18:53:22 +0000 2015    en   \n",
       "3                        NaN                   2/25/2015 20:11    en   \n",
       "4                        NaN                    1/1/2015 17:44    en   \n",
       "\n",
       "                                              status has_extended_profile  \\\n",
       "0  {\\r      \"created_at\": \"Sun Mar 12 15:44:04 +0...                False   \n",
       "1                                                NaN                False   \n",
       "2  {'retweeted': False, 'is_quote_status': False,...                False   \n",
       "3  Construction of human anti-tetanus single-chai...                False   \n",
       "4                                                NaN                False   \n",
       "\n",
       "                   name  \n",
       "0  \"Houston PokŽ Alert\"  \n",
       "1           Keri Nelson  \n",
       "2    Matt Lieber Is Bot  \n",
       "3    single cell papers  \n",
       "4          lucarivera16  "
      ]
     },
     "execution_count": 6,
     "metadata": {},
     "output_type": "execute_result"
    }
   ],
   "source": [
    "text_cols=training_data[['screen_name','location','description','url','created_at','lang','status','has_extended_profile','name']]\n",
    "text_cols.head()"
   ]
  },
  {
   "cell_type": "code",
   "execution_count": 7,
   "metadata": {},
   "outputs": [
    {
     "name": "stderr",
     "output_type": "stream",
     "text": [
      "C:\\ProgramData\\Anaconda3\\lib\\site-packages\\pandas\\core\\frame.py:4238: SettingWithCopyWarning: \n",
      "A value is trying to be set on a copy of a slice from a DataFrame\n",
      "\n",
      "See the caveats in the documentation: http://pandas.pydata.org/pandas-docs/stable/user_guide/indexing.html#returning-a-view-versus-a-copy\n",
      "  return super().rename(**kwargs)\n"
     ]
    }
   ],
   "source": [
    "text_cols.rename(columns={'screen_name':'screen_name_processed'}, inplace=True)\n",
    "text_cols.rename(columns={'name':'name_processed'}, inplace=True)"
   ]
  },
  {
   "cell_type": "code",
   "execution_count": 8,
   "metadata": {},
   "outputs": [
    {
     "name": "stderr",
     "output_type": "stream",
     "text": [
      "C:\\ProgramData\\Anaconda3\\lib\\site-packages\\ipykernel_launcher.py:3: SettingWithCopyWarning: \n",
      "A value is trying to be set on a copy of a slice from a DataFrame.\n",
      "Try using .loc[row_indexer,col_indexer] = value instead\n",
      "\n",
      "See the caveats in the documentation: http://pandas.pydata.org/pandas-docs/stable/user_guide/indexing.html#returning-a-view-versus-a-copy\n",
      "  This is separate from the ipykernel package so we can avoid doing imports until\n"
     ]
    }
   ],
   "source": [
    "stop_words = set(stopwords.words('english'))\n",
    "\n",
    "text_cols['screen_name_processed_num_count'] = \"\"\n",
    "for index, row in text_cols.iterrows():\n",
    "    row['screen_name_processed'] = row['screen_name_processed'].lower() #Convert text to lowercase\n",
    "    row['screen_name_processed_num_count'] = (sum(c.isdigit() for c in row['screen_name_processed'])) #create new column to get number of numbers\n",
    "    row['screen_name_processed'] = re.sub(r'\\d+','', row['screen_name_processed']) #Remove numbers\n",
    "    row['screen_name_processed']= row['screen_name_processed'].translate(str.maketrans('','',string.punctuation)) #Remove punctuation\n",
    "    row['screen_name_processed'] = row['screen_name_processed'].strip() #Remove whitespaces\n",
    "    row['screen_name_processed'] = [i for i in word_tokenize(row['screen_name_processed']) if not i in stop_words] #Tokenization - REMOVE STOP WORDS\n",
    "    for word in row['screen_name_processed']:\n",
    "        row['screen_name_processed'] = lemmatizer.lemmatize(word)"
   ]
  },
  {
   "cell_type": "code",
   "execution_count": 9,
   "metadata": {},
   "outputs": [
    {
     "name": "stderr",
     "output_type": "stream",
     "text": [
      "C:\\ProgramData\\Anaconda3\\lib\\site-packages\\ipykernel_launcher.py:1: SettingWithCopyWarning: \n",
      "A value is trying to be set on a copy of a slice from a DataFrame.\n",
      "Try using .loc[row_indexer,col_indexer] = value instead\n",
      "\n",
      "See the caveats in the documentation: http://pandas.pydata.org/pandas-docs/stable/user_guide/indexing.html#returning-a-view-versus-a-copy\n",
      "  \"\"\"Entry point for launching an IPython kernel.\n"
     ]
    }
   ],
   "source": [
    "text_cols['name_processed_num_count'] = \"\"\n",
    "for index, row in text_cols.iterrows():\n",
    "    row['name_processed'] = row['name_processed'].lower() #Convert text to lowercase\n",
    "    row['name_processed_num_count'] = (sum(c.isdigit() for c in row['name_processed'])) #create new column to get number of numbers\n",
    "    row['name_processed'] = re.sub(r'\\d+','', row['name_processed']) #Remove numbers\n",
    "    row['name_processed']= row['name_processed'].translate(str.maketrans('','',string.punctuation)) #Remove punctuation\n",
    "    row['name_processed'] = row['name_processed'].strip() #Remove whitespaces\n",
    "    row['name_processed'] = [i for i in word_tokenize(row['name_processed']) if not i in stop_words] #Tokenization - REMOVE STOP WORDS"
   ]
  },
  {
   "cell_type": "code",
   "execution_count": 10,
   "metadata": {},
   "outputs": [
    {
     "data": {
      "text/html": [
       "<div>\n",
       "<style scoped>\n",
       "    .dataframe tbody tr th:only-of-type {\n",
       "        vertical-align: middle;\n",
       "    }\n",
       "\n",
       "    .dataframe tbody tr th {\n",
       "        vertical-align: top;\n",
       "    }\n",
       "\n",
       "    .dataframe thead th {\n",
       "        text-align: right;\n",
       "    }\n",
       "</style>\n",
       "<table border=\"1\" class=\"dataframe\">\n",
       "  <thead>\n",
       "    <tr style=\"text-align: right;\">\n",
       "      <th></th>\n",
       "      <th>screen_name_processed</th>\n",
       "      <th>location</th>\n",
       "      <th>description</th>\n",
       "      <th>url</th>\n",
       "      <th>created_at</th>\n",
       "      <th>lang</th>\n",
       "      <th>status</th>\n",
       "      <th>has_extended_profile</th>\n",
       "      <th>name_processed</th>\n",
       "      <th>screen_name_processed_num_count</th>\n",
       "      <th>name_processed_num_count</th>\n",
       "    </tr>\n",
       "  </thead>\n",
       "  <tbody>\n",
       "    <tr>\n",
       "      <th>0</th>\n",
       "      <td>houstonpokemap</td>\n",
       "      <td>\"Houston, TX\"</td>\n",
       "      <td>\"Rare and strong PokŽmon in Houston, TX. See m...</td>\n",
       "      <td>\"https://t.co/dnWuDbFRkt\"</td>\n",
       "      <td>\"Mon Jan 02 02:25:26 +0000 2017\"</td>\n",
       "      <td>\"en\"</td>\n",
       "      <td>{\\r      \"created_at\": \"Sun Mar 12 15:44:04 +0...</td>\n",
       "      <td>False</td>\n",
       "      <td>[houston, pokž, alert]</td>\n",
       "      <td>0</td>\n",
       "      <td>0</td>\n",
       "    </tr>\n",
       "    <tr>\n",
       "      <th>1</th>\n",
       "      <td>kernyeahx</td>\n",
       "      <td>Templeville town, MD, USA</td>\n",
       "      <td>From late 2014 Socium Marketplace will make sh...</td>\n",
       "      <td>NaN</td>\n",
       "      <td>2/1/2016 7:37</td>\n",
       "      <td>en</td>\n",
       "      <td>NaN</td>\n",
       "      <td>False</td>\n",
       "      <td>[keri, nelson]</td>\n",
       "      <td>0</td>\n",
       "      <td>0</td>\n",
       "    </tr>\n",
       "    <tr>\n",
       "      <th>2</th>\n",
       "      <td>mattlieberisbot</td>\n",
       "      <td>NaN</td>\n",
       "      <td>Inspired by the smart, funny folks at @replyal...</td>\n",
       "      <td>https://t.co/P1e1o0m4KC</td>\n",
       "      <td>Fri Nov 20 18:53:22 +0000 2015</td>\n",
       "      <td>en</td>\n",
       "      <td>{'retweeted': False, 'is_quote_status': False,...</td>\n",
       "      <td>False</td>\n",
       "      <td>[matt, lieber, bot]</td>\n",
       "      <td>0</td>\n",
       "      <td>0</td>\n",
       "    </tr>\n",
       "    <tr>\n",
       "      <th>3</th>\n",
       "      <td>scpapers</td>\n",
       "      <td>NaN</td>\n",
       "      <td>NaN</td>\n",
       "      <td>NaN</td>\n",
       "      <td>2/25/2015 20:11</td>\n",
       "      <td>en</td>\n",
       "      <td>Construction of human anti-tetanus single-chai...</td>\n",
       "      <td>False</td>\n",
       "      <td>[single, cell, papers]</td>\n",
       "      <td>0</td>\n",
       "      <td>0</td>\n",
       "    </tr>\n",
       "    <tr>\n",
       "      <th>4</th>\n",
       "      <td>lucarivera</td>\n",
       "      <td>Dublin, United States</td>\n",
       "      <td>Inspiring cooks everywhere since 1956.</td>\n",
       "      <td>NaN</td>\n",
       "      <td>1/1/2015 17:44</td>\n",
       "      <td>en</td>\n",
       "      <td>NaN</td>\n",
       "      <td>False</td>\n",
       "      <td>[lucarivera]</td>\n",
       "      <td>2</td>\n",
       "      <td>2</td>\n",
       "    </tr>\n",
       "  </tbody>\n",
       "</table>\n",
       "</div>"
      ],
      "text/plain": [
       "  screen_name_processed                   location  \\\n",
       "0        houstonpokemap              \"Houston, TX\"   \n",
       "1             kernyeahx  Templeville town, MD, USA   \n",
       "2       mattlieberisbot                        NaN   \n",
       "3              scpapers                        NaN   \n",
       "4            lucarivera      Dublin, United States   \n",
       "\n",
       "                                         description  \\\n",
       "0  \"Rare and strong PokŽmon in Houston, TX. See m...   \n",
       "1  From late 2014 Socium Marketplace will make sh...   \n",
       "2  Inspired by the smart, funny folks at @replyal...   \n",
       "3                                                NaN   \n",
       "4             Inspiring cooks everywhere since 1956.   \n",
       "\n",
       "                         url                        created_at  lang  \\\n",
       "0  \"https://t.co/dnWuDbFRkt\"  \"Mon Jan 02 02:25:26 +0000 2017\"  \"en\"   \n",
       "1                        NaN                     2/1/2016 7:37    en   \n",
       "2    https://t.co/P1e1o0m4KC    Fri Nov 20 18:53:22 +0000 2015    en   \n",
       "3                        NaN                   2/25/2015 20:11    en   \n",
       "4                        NaN                    1/1/2015 17:44    en   \n",
       "\n",
       "                                              status has_extended_profile  \\\n",
       "0  {\\r      \"created_at\": \"Sun Mar 12 15:44:04 +0...                False   \n",
       "1                                                NaN                False   \n",
       "2  {'retweeted': False, 'is_quote_status': False,...                False   \n",
       "3  Construction of human anti-tetanus single-chai...                False   \n",
       "4                                                NaN                False   \n",
       "\n",
       "           name_processed screen_name_processed_num_count  \\\n",
       "0  [houston, pokž, alert]                               0   \n",
       "1          [keri, nelson]                               0   \n",
       "2     [matt, lieber, bot]                               0   \n",
       "3  [single, cell, papers]                               0   \n",
       "4            [lucarivera]                               2   \n",
       "\n",
       "  name_processed_num_count  \n",
       "0                        0  \n",
       "1                        0  \n",
       "2                        0  \n",
       "3                        0  \n",
       "4                        2  "
      ]
     },
     "execution_count": 10,
     "metadata": {},
     "output_type": "execute_result"
    }
   ],
   "source": [
    "text_cols.head()"
   ]
  },
  {
   "cell_type": "code",
   "execution_count": 11,
   "metadata": {},
   "outputs": [],
   "source": [
    "def impute_na(variable):\n",
    "    for i, row in text_cols[text_cols[variable].isnull()].iterrows():\n",
    "        obs_sample = text_cols[variable].dropna().sample(1, random_state=int(row.screen_name_processed_num_count))\n",
    "        obs_sample.index = [i]\n",
    "        text_cols.at[i, variable] = obs_sample"
   ]
  },
  {
   "cell_type": "code",
   "execution_count": 12,
   "metadata": {},
   "outputs": [],
   "source": [
    "impute_na('has_extended_profile')"
   ]
  },
  {
   "cell_type": "code",
   "execution_count": 13,
   "metadata": {},
   "outputs": [],
   "source": [
    "word_list = r'bot|b0t|cannabis|tweet me|mishear|follow me|updates every|gorilla|yes_ofc|forget' \\\n",
    "                    r'expos|kill|clit|bbb|butt|fuck|XXX|sex|truthe|fake|anony|free|virus|funky|RNA|kuck|jargon' \\\n",
    "                    r'nerd|swag|jack|bang|bonsai|chick|prison|paper|pokem|xx|freak|ffd|dunia|clone|genie|bbb' \\\n",
    "                    r'ffd|onlyman|emoji|joke|troll|droop|free|every|wow|cheese|yeah|bio|magic|wizard|face'"
   ]
  },
  {
   "cell_type": "code",
   "execution_count": 14,
   "metadata": {},
   "outputs": [],
   "source": [
    "listofwords = pickle.load(open(\"model/words_in_not_credible.pickle\", 'rb'))"
   ]
  },
  {
   "cell_type": "code",
   "execution_count": 15,
   "metadata": {},
   "outputs": [],
   "source": [
    "listofwords2 = pickle.load(open(\"model/word_couples_in_not_credible.pickle\", 'rb'))"
   ]
  },
  {
   "cell_type": "code",
   "execution_count": 16,
   "metadata": {},
   "outputs": [],
   "source": [
    "list_ofwords=list(listofwords)\n",
    "str1 = '|'.join(str(e) for e in list_ofwords)"
   ]
  },
  {
   "cell_type": "code",
   "execution_count": 17,
   "metadata": {
    "scrolled": true
   },
   "outputs": [],
   "source": [
    "list_ofwords2=list(listofwords2)\n",
    "str2 = '|'.join(str(e) for e in list_ofwords2)"
   ]
  },
  {
   "cell_type": "code",
   "execution_count": 18,
   "metadata": {},
   "outputs": [
    {
     "name": "stderr",
     "output_type": "stream",
     "text": [
      "C:\\ProgramData\\Anaconda3\\lib\\site-packages\\ipykernel_launcher.py:1: SettingWithCopyWarning: \n",
      "A value is trying to be set on a copy of a slice from a DataFrame.\n",
      "Try using .loc[row_indexer,col_indexer] = value instead\n",
      "\n",
      "See the caveats in the documentation: http://pandas.pydata.org/pandas-docs/stable/user_guide/indexing.html#returning-a-view-versus-a-copy\n",
      "  \"\"\"Entry point for launching an IPython kernel.\n",
      "C:\\ProgramData\\Anaconda3\\lib\\site-packages\\ipykernel_launcher.py:2: SettingWithCopyWarning: \n",
      "A value is trying to be set on a copy of a slice from a DataFrame.\n",
      "Try using .loc[row_indexer,col_indexer] = value instead\n",
      "\n",
      "See the caveats in the documentation: http://pandas.pydata.org/pandas-docs/stable/user_guide/indexing.html#returning-a-view-versus-a-copy\n",
      "  \n",
      "C:\\ProgramData\\Anaconda3\\lib\\site-packages\\ipykernel_launcher.py:3: SettingWithCopyWarning: \n",
      "A value is trying to be set on a copy of a slice from a DataFrame.\n",
      "Try using .loc[row_indexer,col_indexer] = value instead\n",
      "\n",
      "See the caveats in the documentation: http://pandas.pydata.org/pandas-docs/stable/user_guide/indexing.html#returning-a-view-versus-a-copy\n",
      "  This is separate from the ipykernel package so we can avoid doing imports until\n",
      "C:\\ProgramData\\Anaconda3\\lib\\site-packages\\ipykernel_launcher.py:4: SettingWithCopyWarning: \n",
      "A value is trying to be set on a copy of a slice from a DataFrame.\n",
      "Try using .loc[row_indexer,col_indexer] = value instead\n",
      "\n",
      "See the caveats in the documentation: http://pandas.pydata.org/pandas-docs/stable/user_guide/indexing.html#returning-a-view-versus-a-copy\n",
      "  after removing the cwd from sys.path.\n"
     ]
    }
   ],
   "source": [
    "text_cols['screen_name_binary'] = training_data.screen_name.str.contains(word_list, case=False, na=False)\n",
    "text_cols['name_binary'] = training_data.name.str.contains(word_list, case=False, na=False)\n",
    "text_cols['description_binary'] = training_data.description.str.contains(word_list, case=False, na=False)\n",
    "text_cols['status_binary'] = training_data.status.str.contains(word_list, case=False, na=False)"
   ]
  },
  {
   "cell_type": "code",
   "execution_count": 19,
   "metadata": {},
   "outputs": [],
   "source": [
    "word_list = str1 + '|' + str2 + '|' + word_list"
   ]
  },
  {
   "cell_type": "code",
   "execution_count": 20,
   "metadata": {},
   "outputs": [
    {
     "name": "stderr",
     "output_type": "stream",
     "text": [
      "C:\\ProgramData\\Anaconda3\\lib\\site-packages\\ipykernel_launcher.py:1: SettingWithCopyWarning: \n",
      "A value is trying to be set on a copy of a slice from a DataFrame.\n",
      "Try using .loc[row_indexer,col_indexer] = value instead\n",
      "\n",
      "See the caveats in the documentation: http://pandas.pydata.org/pandas-docs/stable/user_guide/indexing.html#returning-a-view-versus-a-copy\n",
      "  \"\"\"Entry point for launching an IPython kernel.\n"
     ]
    }
   ],
   "source": [
    "text_cols['listed_count_binary'] = (training_data.listed_count>20000)==False"
   ]
  },
  {
   "cell_type": "code",
   "execution_count": 21,
   "metadata": {},
   "outputs": [
    {
     "name": "stderr",
     "output_type": "stream",
     "text": [
      "C:\\ProgramData\\Anaconda3\\lib\\site-packages\\ipykernel_launcher.py:2: SettingWithCopyWarning: \n",
      "A value is trying to be set on a copy of a slice from a DataFrame.\n",
      "Try using .loc[row_indexer,col_indexer] = value instead\n",
      "\n",
      "See the caveats in the documentation: http://pandas.pydata.org/pandas-docs/stable/user_guide/indexing.html#returning-a-view-versus-a-copy\n",
      "  \n"
     ]
    }
   ],
   "source": [
    "for column in training_data:\n",
    "    text_cols[column+'_NA'] = np.where(training_data[column].isnull(), 1, 0)"
   ]
  },
  {
   "cell_type": "code",
   "execution_count": 22,
   "metadata": {},
   "outputs": [
    {
     "data": {
      "text/plain": [
       "['id_NA',\n",
       " 'id_str_NA',\n",
       " 'screen_name_NA',\n",
       " 'location_NA',\n",
       " 'description_NA',\n",
       " 'url_NA',\n",
       " 'followers_count_NA',\n",
       " 'friends_count_NA',\n",
       " 'listed_count_NA',\n",
       " 'created_at_NA',\n",
       " 'favourites_count_NA',\n",
       " 'verified_NA',\n",
       " 'statuses_count_NA',\n",
       " 'lang_NA',\n",
       " 'status_NA',\n",
       " 'default_profile_NA',\n",
       " 'default_profile_image_NA',\n",
       " 'has_extended_profile_NA',\n",
       " 'name_NA',\n",
       " 'bot_NA']"
      ]
     },
     "execution_count": 22,
     "metadata": {},
     "output_type": "execute_result"
    }
   ],
   "source": [
    "NA_cols = [col for col in text_cols.columns if 'NA' in col]\n",
    "NA_cols"
   ]
  },
  {
   "cell_type": "code",
   "execution_count": 23,
   "metadata": {},
   "outputs": [],
   "source": [
    "text_cols.has_extended_profile = text_cols.has_extended_profile.astype(int)"
   ]
  },
  {
   "cell_type": "code",
   "execution_count": 24,
   "metadata": {},
   "outputs": [],
   "source": [
    "text_cols.rename(columns={'has_extended_profile':'has_extended_profile_processed'}, inplace=True)"
   ]
  },
  {
   "cell_type": "code",
   "execution_count": 25,
   "metadata": {},
   "outputs": [],
   "source": [
    "training_data['des_hashtags'] = training_data['description'].str.count('#')\n",
    "training_data['des_mentions'] = training_data['description'].str.count('@')\n",
    "training_data['des_length'] = training_data['description'].str.len()\n",
    "training_data['status_hashtags'] = training_data['status'].str.count('#')\n",
    "training_data['status_mentions'] = training_data['status'].str.count('@')\n",
    "training_data['status_length'] = training_data['status'].str.len()\n",
    "training_data['des_link_count'] = training_data['description'].str.count(':')\n",
    "\n",
    "training_data['status_punctuation'] = training_data['status'].str.count('\\.')\n",
    "training_data['des_punctuation'] = training_data['description'].str.count('\\.')\n",
    "training_data['status_quote'] = training_data['status'].str.count('\"')\n",
    "training_data['des_quote'] = training_data['description'].str.count('\"')"
   ]
  },
  {
   "cell_type": "code",
   "execution_count": 26,
   "metadata": {},
   "outputs": [],
   "source": [
    "text_cols_features = text_cols[['has_extended_profile_processed','name_processed_num_count','screen_name_processed_num_count','screen_name_binary', 'name_binary', 'description_binary', 'status_binary', 'listed_count_binary','location_NA','description_NA','url_NA','status_NA','has_extended_profile_NA']].copy()\n",
    "training_data_features = training_data[['verified', 'followers_count', 'friends_count', 'statuses_count','bot']].copy()\n",
    "feature_set = training_data[['status_punctuation','des_punctuation','status_quote','des_quote','des_link_count','des_hashtags', 'des_mentions', 'des_length', 'status_hashtags','status_mentions','status_length']].copy().fillna(0)"
   ]
  },
  {
   "cell_type": "code",
   "execution_count": 27,
   "metadata": {
    "scrolled": true
   },
   "outputs": [
    {
     "data": {
      "text/html": [
       "<div>\n",
       "<style scoped>\n",
       "    .dataframe tbody tr th:only-of-type {\n",
       "        vertical-align: middle;\n",
       "    }\n",
       "\n",
       "    .dataframe tbody tr th {\n",
       "        vertical-align: top;\n",
       "    }\n",
       "\n",
       "    .dataframe thead th {\n",
       "        text-align: right;\n",
       "    }\n",
       "</style>\n",
       "<table border=\"1\" class=\"dataframe\">\n",
       "  <thead>\n",
       "    <tr style=\"text-align: right;\">\n",
       "      <th></th>\n",
       "      <th>status_punctuation</th>\n",
       "      <th>des_punctuation</th>\n",
       "      <th>status_quote</th>\n",
       "      <th>des_quote</th>\n",
       "      <th>des_link_count</th>\n",
       "      <th>des_hashtags</th>\n",
       "      <th>des_mentions</th>\n",
       "      <th>des_length</th>\n",
       "      <th>status_hashtags</th>\n",
       "      <th>status_mentions</th>\n",
       "      <th>status_length</th>\n",
       "    </tr>\n",
       "  </thead>\n",
       "  <tbody>\n",
       "    <tr>\n",
       "      <th>0</th>\n",
       "      <td>17.0</td>\n",
       "      <td>2.0</td>\n",
       "      <td>96.0</td>\n",
       "      <td>2.0</td>\n",
       "      <td>1.0</td>\n",
       "      <td>0.0</td>\n",
       "      <td>0.0</td>\n",
       "      <td>85.0</td>\n",
       "      <td>2.0</td>\n",
       "      <td>0.0</td>\n",
       "      <td>1598.0</td>\n",
       "    </tr>\n",
       "    <tr>\n",
       "      <th>1</th>\n",
       "      <td>0.0</td>\n",
       "      <td>1.0</td>\n",
       "      <td>0.0</td>\n",
       "      <td>0.0</td>\n",
       "      <td>0.0</td>\n",
       "      <td>0.0</td>\n",
       "      <td>0.0</td>\n",
       "      <td>139.0</td>\n",
       "      <td>0.0</td>\n",
       "      <td>0.0</td>\n",
       "      <td>0.0</td>\n",
       "    </tr>\n",
       "    <tr>\n",
       "      <th>2</th>\n",
       "      <td>1.0</td>\n",
       "      <td>0.0</td>\n",
       "      <td>4.0</td>\n",
       "      <td>0.0</td>\n",
       "      <td>0.0</td>\n",
       "      <td>0.0</td>\n",
       "      <td>3.0</td>\n",
       "      <td>124.0</td>\n",
       "      <td>0.0</td>\n",
       "      <td>0.0</td>\n",
       "      <td>721.0</td>\n",
       "    </tr>\n",
       "    <tr>\n",
       "      <th>3</th>\n",
       "      <td>2.0</td>\n",
       "      <td>0.0</td>\n",
       "      <td>0.0</td>\n",
       "      <td>0.0</td>\n",
       "      <td>0.0</td>\n",
       "      <td>0.0</td>\n",
       "      <td>0.0</td>\n",
       "      <td>0.0</td>\n",
       "      <td>0.0</td>\n",
       "      <td>0.0</td>\n",
       "      <td>119.0</td>\n",
       "    </tr>\n",
       "    <tr>\n",
       "      <th>4</th>\n",
       "      <td>0.0</td>\n",
       "      <td>1.0</td>\n",
       "      <td>0.0</td>\n",
       "      <td>0.0</td>\n",
       "      <td>0.0</td>\n",
       "      <td>0.0</td>\n",
       "      <td>0.0</td>\n",
       "      <td>38.0</td>\n",
       "      <td>0.0</td>\n",
       "      <td>0.0</td>\n",
       "      <td>0.0</td>\n",
       "    </tr>\n",
       "    <tr>\n",
       "      <th>...</th>\n",
       "      <td>...</td>\n",
       "      <td>...</td>\n",
       "      <td>...</td>\n",
       "      <td>...</td>\n",
       "      <td>...</td>\n",
       "      <td>...</td>\n",
       "      <td>...</td>\n",
       "      <td>...</td>\n",
       "      <td>...</td>\n",
       "      <td>...</td>\n",
       "      <td>...</td>\n",
       "    </tr>\n",
       "    <tr>\n",
       "      <th>95</th>\n",
       "      <td>1.0</td>\n",
       "      <td>0.0</td>\n",
       "      <td>0.0</td>\n",
       "      <td>0.0</td>\n",
       "      <td>0.0</td>\n",
       "      <td>4.0</td>\n",
       "      <td>0.0</td>\n",
       "      <td>90.0</td>\n",
       "      <td>1.0</td>\n",
       "      <td>0.0</td>\n",
       "      <td>134.0</td>\n",
       "    </tr>\n",
       "    <tr>\n",
       "      <th>96</th>\n",
       "      <td>2.0</td>\n",
       "      <td>4.0</td>\n",
       "      <td>6.0</td>\n",
       "      <td>0.0</td>\n",
       "      <td>0.0</td>\n",
       "      <td>0.0</td>\n",
       "      <td>2.0</td>\n",
       "      <td>109.0</td>\n",
       "      <td>0.0</td>\n",
       "      <td>2.0</td>\n",
       "      <td>945.0</td>\n",
       "    </tr>\n",
       "    <tr>\n",
       "      <th>97</th>\n",
       "      <td>116.0</td>\n",
       "      <td>0.0</td>\n",
       "      <td>12.0</td>\n",
       "      <td>0.0</td>\n",
       "      <td>0.0</td>\n",
       "      <td>12.0</td>\n",
       "      <td>0.0</td>\n",
       "      <td>89.0</td>\n",
       "      <td>23.0</td>\n",
       "      <td>2.0</td>\n",
       "      <td>12377.0</td>\n",
       "    </tr>\n",
       "    <tr>\n",
       "      <th>98</th>\n",
       "      <td>84.0</td>\n",
       "      <td>0.0</td>\n",
       "      <td>716.0</td>\n",
       "      <td>0.0</td>\n",
       "      <td>0.0</td>\n",
       "      <td>0.0</td>\n",
       "      <td>0.0</td>\n",
       "      <td>23.0</td>\n",
       "      <td>0.0</td>\n",
       "      <td>9.0</td>\n",
       "      <td>5991.0</td>\n",
       "    </tr>\n",
       "    <tr>\n",
       "      <th>99</th>\n",
       "      <td>22.0</td>\n",
       "      <td>0.0</td>\n",
       "      <td>4.0</td>\n",
       "      <td>0.0</td>\n",
       "      <td>0.0</td>\n",
       "      <td>0.0</td>\n",
       "      <td>1.0</td>\n",
       "      <td>55.0</td>\n",
       "      <td>0.0</td>\n",
       "      <td>1.0</td>\n",
       "      <td>2207.0</td>\n",
       "    </tr>\n",
       "  </tbody>\n",
       "</table>\n",
       "<p>100 rows × 11 columns</p>\n",
       "</div>"
      ],
      "text/plain": [
       "    status_punctuation  des_punctuation  status_quote  des_quote  \\\n",
       "0                 17.0              2.0          96.0        2.0   \n",
       "1                  0.0              1.0           0.0        0.0   \n",
       "2                  1.0              0.0           4.0        0.0   \n",
       "3                  2.0              0.0           0.0        0.0   \n",
       "4                  0.0              1.0           0.0        0.0   \n",
       "..                 ...              ...           ...        ...   \n",
       "95                 1.0              0.0           0.0        0.0   \n",
       "96                 2.0              4.0           6.0        0.0   \n",
       "97               116.0              0.0          12.0        0.0   \n",
       "98                84.0              0.0         716.0        0.0   \n",
       "99                22.0              0.0           4.0        0.0   \n",
       "\n",
       "    des_link_count  des_hashtags  des_mentions  des_length  status_hashtags  \\\n",
       "0              1.0           0.0           0.0        85.0              2.0   \n",
       "1              0.0           0.0           0.0       139.0              0.0   \n",
       "2              0.0           0.0           3.0       124.0              0.0   \n",
       "3              0.0           0.0           0.0         0.0              0.0   \n",
       "4              0.0           0.0           0.0        38.0              0.0   \n",
       "..             ...           ...           ...         ...              ...   \n",
       "95             0.0           4.0           0.0        90.0              1.0   \n",
       "96             0.0           0.0           2.0       109.0              0.0   \n",
       "97             0.0          12.0           0.0        89.0             23.0   \n",
       "98             0.0           0.0           0.0        23.0              0.0   \n",
       "99             0.0           0.0           1.0        55.0              0.0   \n",
       "\n",
       "    status_mentions  status_length  \n",
       "0               0.0         1598.0  \n",
       "1               0.0            0.0  \n",
       "2               0.0          721.0  \n",
       "3               0.0          119.0  \n",
       "4               0.0            0.0  \n",
       "..              ...            ...  \n",
       "95              0.0          134.0  \n",
       "96              2.0          945.0  \n",
       "97              2.0        12377.0  \n",
       "98              9.0         5991.0  \n",
       "99              1.0         2207.0  \n",
       "\n",
       "[100 rows x 11 columns]"
      ]
     },
     "execution_count": 27,
     "metadata": {},
     "output_type": "execute_result"
    }
   ],
   "source": [
    "feature_set.head(100)"
   ]
  },
  {
   "cell_type": "code",
   "execution_count": 28,
   "metadata": {},
   "outputs": [],
   "source": [
    "result = pd.concat([feature_set,text_cols_features, training_data_features], axis=1, sort=False)\n",
    "result.to_csv('data/Bot/processed.csv', index=False)"
   ]
  },
  {
   "cell_type": "code",
   "execution_count": 29,
   "metadata": {},
   "outputs": [
    {
     "name": "stdout",
     "output_type": "stream",
     "text": [
      "(1321, 4638)\n"
     ]
    }
   ],
   "source": [
    "mask_on = training_data['bot'] == 1\n",
    "training_data_bot_description = training_data[mask_on]['description']\n",
    "\n",
    "# Instantiate a CountVectorizer\n",
    "cv1 = CountVectorizer(stop_words = 'english')\n",
    "\n",
    "# Fit and transform the vectorizer on our corpus\n",
    "bot_cvec = cv1.fit_transform(training_data_bot_description.values.astype('U'))\n",
    "\n",
    "# Convert onion_cvec into a DataFrame\n",
    "bot_cvec_df = pd.DataFrame(bot_cvec.toarray(),\n",
    "                   columns=cv1.get_feature_names())\n",
    "\n",
    "# Inspect head of Onion Titles cvec\n",
    "print(bot_cvec_df.shape)"
   ]
  },
  {
   "cell_type": "code",
   "execution_count": 30,
   "metadata": {},
   "outputs": [],
   "source": [
    "def bar_plot(x, y, title, color):    \n",
    "    \n",
    "    # Set up barplot \n",
    "    plt.figure(figsize=(9,5))\n",
    "    g=sns.barplot(x, y, color = color)    \n",
    "    ax=g\n",
    "\n",
    "    # Label the graph\n",
    "    plt.title(title, fontsize = 15)\n",
    "    plt.xticks(fontsize = 10)\n",
    "\n",
    "    # Enable bar values\n",
    "    # Code modified from http://robertmitchellv.com/blog-bar-chart-annotations-pandas-mpl.html\n",
    "    # create a list to collect the plt.patches data\n",
    "    totals = []\n",
    "\n",
    "    # find the values and append to list\n",
    "    for p in ax.patches:\n",
    "        totals.append(p.get_width())\n",
    "\n",
    "    # set individual bar lables using above list\n",
    "    total = sum(totals)\n",
    "\n",
    "    # set individual bar lables using above list\n",
    "    for p in ax.patches:\n",
    "        # get_width pulls left or right; get_y pushes up or down\n",
    "        ax.text(p.get_width()+.3, p.get_y()+.38, \\\n",
    "                int(p.get_width()), fontsize=10)"
   ]
  },
  {
   "cell_type": "code",
   "execution_count": 31,
   "metadata": {},
   "outputs": [
    {
     "data": {
      "image/png": "[encoded data removed]",
      "text/plain": [
       "<matplotlib.figure.Figure at 0x29f1d294f60>"
      ]
     },
     "metadata": {
      "image/png": {
       "height": 320,
       "width": 559
      },
      "needs_background": "light"
     },
     "output_type": "display_data"
    }
   ],
   "source": [
    "bot_wc = bot_cvec_df.sum(axis = 0)\n",
    "bot_top_10 = bot_wc.sort_values(ascending=False).head(10)\n",
    "\n",
    "# Call function\n",
    "bar_plot(bot_top_10.values, bot_top_10.index, 'Top 10 words on Description of bots','r') "
   ]
  },
  {
   "cell_type": "code",
   "execution_count": 32,
   "metadata": {
    "scrolled": true
   },
   "outputs": [
    {
     "name": "stderr",
     "output_type": "stream",
     "text": [
      "C:\\ProgramData\\Anaconda3\\lib\\site-packages\\ipykernel_launcher.py:3: FutureWarning: Method .as_matrix will be removed in a future version. Use .values instead.\n",
      "  This is separate from the ipykernel package so we can avoid doing imports until\n"
     ]
    },
    {
     "name": "stdout",
     "output_type": "stream",
     "text": [
      "Random Forest Classifier Train Accuracy Score : 0.9241114313160422\n",
      "Random Forest Classifier Test Score : 0.8678571428571429\n"
     ]
    }
   ],
   "source": [
    "result_no_f = training_data_features\n",
    "training_result_no_f = result_no_f.drop('bot', axis=1)\n",
    "X = training_result_no_f.as_matrix()\n",
    "X_train, X_test, y_train, y_test = train_test_split(X, result_no_f.bot, test_size=0.3,\n",
    "                                                    random_state=0)\n",
    "ovrsmple = SMOTE(ratio='minority')\n",
    "X_train, y_train = ovrsmple.fit_sample(X_train, y_train)\n",
    "rfc = sklearn.ensemble.RandomForestClassifier(n_estimators=500,\n",
    "                                              min_samples_split=5,\n",
    "                                              criterion='gini', \n",
    "                                              max_features='auto',\n",
    "                                              max_depth = 8,\n",
    "                                              oob_score=True,\n",
    "                                              random_state=42,\n",
    "                                              n_jobs=-1)\n",
    "rfc.fit(X_train, y_train)\n",
    "\n",
    "print('Random Forest Classifier Train Accuracy Score :', rfc.score(X_train, y_train))\n",
    "print('Random Forest Classifier Test Score :', rfc.score(X_test, y_test))"
   ]
  },
  {
   "cell_type": "code",
   "execution_count": 33,
   "metadata": {},
   "outputs": [
    {
     "name": "stderr",
     "output_type": "stream",
     "text": [
      "C:\\ProgramData\\Anaconda3\\lib\\site-packages\\ipykernel_launcher.py:2: FutureWarning: Method .as_matrix will be removed in a future version. Use .values instead.\n",
      "  \n"
     ]
    }
   ],
   "source": [
    "training = result.drop('bot', axis=1)\n",
    "X = training.as_matrix()"
   ]
  },
  {
   "cell_type": "code",
   "execution_count": 34,
   "metadata": {},
   "outputs": [
    {
     "data": {
      "text/plain": [
       "((1957, 28), (840, 28))"
      ]
     },
     "execution_count": 34,
     "metadata": {},
     "output_type": "execute_result"
    }
   ],
   "source": [
    "X_train, X_test, y_train, y_test = train_test_split(X, result.bot, test_size=0.3,\n",
    "                                                    random_state=0)\n",
    "X_train.shape, X_test.shape"
   ]
  },
  {
   "cell_type": "code",
   "execution_count": 35,
   "metadata": {},
   "outputs": [],
   "source": [
    "ovrsmple = SMOTE(ratio='minority')\n",
    "\n",
    "X_train, y_train = ovrsmple.fit_sample(X_train, y_train)"
   ]
  },
  {
   "cell_type": "code",
   "execution_count": 36,
   "metadata": {},
   "outputs": [
    {
     "data": {
      "text/plain": [
       "array([1041, 1041], dtype=int64)"
      ]
     },
     "execution_count": 36,
     "metadata": {},
     "output_type": "execute_result"
    }
   ],
   "source": [
    "np.bincount(y_train)"
   ]
  },
  {
   "cell_type": "code",
   "execution_count": 37,
   "metadata": {},
   "outputs": [],
   "source": [
    "rfc = sklearn.ensemble.RandomForestClassifier(n_estimators=500,\n",
    "                                              min_samples_split=5,\n",
    "                                              criterion='gini', \n",
    "                                              max_features='auto',\n",
    "                                              max_depth = 8,\n",
    "                                              oob_score=True,\n",
    "                                              random_state=42,\n",
    "                                              n_jobs=-1)"
   ]
  },
  {
   "cell_type": "code",
   "execution_count": 38,
   "metadata": {},
   "outputs": [
    {
     "name": "stdout",
     "output_type": "stream",
     "text": [
      "Random Forest Classifier Train Accuracy Score : 0.9385206532180596\n",
      "Random Forest Classifier Test Score : 0.8916666666666667\n"
     ]
    }
   ],
   "source": [
    "rfc.fit(X_train, y_train)\n",
    "\n",
    "print('Random Forest Classifier Train Accuracy Score :', rfc.score(X_train, y_train))\n",
    "print('Random Forest Classifier Test Score :', rfc.score(X_test, y_test))"
   ]
  },
  {
   "cell_type": "code",
   "execution_count": 39,
   "metadata": {},
   "outputs": [
    {
     "name": "stdout",
     "output_type": "stream",
     "text": [
      "             precision    recall  f1-score   support\n",
      "\n",
      "          0       0.88      0.92      0.90       435\n",
      "          1       0.91      0.86      0.88       405\n",
      "\n",
      "avg / total       0.89      0.89      0.89       840\n",
      "\n"
     ]
    }
   ],
   "source": [
    "from sklearn.metrics import classification_report\n",
    "predt = rfc.predict(X_test)\n",
    "report = classification_report(y_test, predt)\n",
    "print(report)"
   ]
  },
  {
   "cell_type": "code",
   "execution_count": 40,
   "metadata": {
    "scrolled": true
   },
   "outputs": [
    {
     "data": {
      "text/plain": [
       "<matplotlib.axes._subplots.AxesSubplot at 0x29f1d1a51d0>"
      ]
     },
     "execution_count": 40,
     "metadata": {},
     "output_type": "execute_result"
    },
    {
     "data": {
      "image/png": "[encoded data removed]",
      "text/plain": [
       "<matplotlib.figure.Figure at 0x29f1d1a57b8>"
      ]
     },
     "metadata": {
      "image/png": {
       "height": 521,
       "width": 765
      },
      "needs_background": "light"
     },
     "output_type": "display_data"
    }
   ],
   "source": [
    "plt.figure(figsize=(10,9))\n",
    "feat_importances = pd.Series(rfc.feature_importances_, index=training.columns)\n",
    "feat_importances.nlargest(30).plot(kind='barh')"
   ]
  },
  {
   "cell_type": "code",
   "execution_count": 41,
   "metadata": {},
   "outputs": [],
   "source": [
    "from sklearn.tree import DecisionTreeClassifier"
   ]
  },
  {
   "cell_type": "code",
   "execution_count": 42,
   "metadata": {},
   "outputs": [],
   "source": [
    "dtc = DecisionTreeClassifier(criterion='gini',\n",
    "                            max_depth = 10,\n",
    "                            max_features = 'auto',\n",
    "                            random_state = 1,\n",
    "                            splitter = 'best')"
   ]
  },
  {
   "cell_type": "code",
   "execution_count": 43,
   "metadata": {
    "scrolled": true
   },
   "outputs": [
    {
     "data": {
      "text/plain": [
       "DecisionTreeClassifier(class_weight=None, criterion='gini', max_depth=10,\n",
       "            max_features='auto', max_leaf_nodes=None,\n",
       "            min_impurity_decrease=0.0, min_impurity_split=None,\n",
       "            min_samples_leaf=1, min_samples_split=2,\n",
       "            min_weight_fraction_leaf=0.0, presort=False, random_state=1,\n",
       "            splitter='best')"
      ]
     },
     "execution_count": 43,
     "metadata": {},
     "output_type": "execute_result"
    }
   ],
   "source": [
    "dtc.fit(X_train, y_train)"
   ]
  },
  {
   "cell_type": "code",
   "execution_count": 44,
   "metadata": {},
   "outputs": [
    {
     "name": "stdout",
     "output_type": "stream",
     "text": [
      "Train Score : 0.9385206532180596\n",
      "Test Score : 0.8357142857142857\n"
     ]
    }
   ],
   "source": [
    "print(\"Train Score :\", dtc.score(X_train, y_train))\n",
    "print(\"Test Score :\", dtc.score(X_test, y_test))"
   ]
  },
  {
   "cell_type": "code",
   "execution_count": 45,
   "metadata": {},
   "outputs": [
    {
     "name": "stdout",
     "output_type": "stream",
     "text": [
      "LR train score :\n",
      "0.8054755043227666\n",
      "\n",
      "LR test score  :\n",
      "0.7988095238095239\n"
     ]
    },
    {
     "name": "stderr",
     "output_type": "stream",
     "text": [
      "C:\\ProgramData\\Anaconda3\\lib\\site-packages\\sklearn\\utils\\validation.py:475: DataConversionWarning: Data with input dtype object was converted to float64 by StandardScaler.\n",
      "  warnings.warn(msg, DataConversionWarning)\n",
      "C:\\ProgramData\\Anaconda3\\lib\\site-packages\\sklearn\\linear_model\\logistic.py:1228: UserWarning: 'n_jobs' > 1 does not have any effect when 'solver' is set to 'liblinear'. Got 'n_jobs' = -1.\n",
      "  \" = {}.\".format(self.n_jobs))\n"
     ]
    }
   ],
   "source": [
    "from sklearn.preprocessing import StandardScaler \n",
    "from sklearn.linear_model import LogisticRegressionCV,LogisticRegression\n",
    "\n",
    "ss = StandardScaler()\n",
    "X_train_s= ss.fit_transform(X_train) # saved the mean and std from X_train\n",
    "X_test_s=ss.transform(X_test)\n",
    "\n",
    "\n",
    "# Create regularization penalty space\n",
    "penalty = ['l1', 'l2']\n",
    "\n",
    "# Create regularization hyperparameter space\n",
    "C = np.logspace(0, 4, 10)\n",
    "\n",
    "# Create hyperparameter options\n",
    "hyperparameters = dict(C=C, penalty=penalty)\n",
    "\n",
    "#initialize grid search and Logistic regression\n",
    "\n",
    "lr = LogisticRegression(n_jobs=-1)\n",
    "# clf = GridSearchCV(lr, hyperparameters, cv=5, verbose=0)\n",
    "# # Train the model using the training sets\n",
    "# clf.fit(X_train_s, y_train)\n",
    "\n",
    "lr.fit(X_train_s, y_train)\n",
    "lr_y_pred = lr.predict(X_test_s)\n",
    "print(\"LR train score :\")\n",
    "print(lr.score(X_train_s, y_train))\n",
    "print('')\n",
    "print(\"LR test score  :\")\n",
    "\n",
    "print(lr.score(X_test_s, y_test))"
   ]
  },
  {
   "cell_type": "code",
   "execution_count": 46,
   "metadata": {},
   "outputs": [
    {
     "data": {
      "text/plain": [
       "<matplotlib.legend.Legend at 0x29f2049d278>"
      ]
     },
     "execution_count": 46,
     "metadata": {},
     "output_type": "execute_result"
    },
    {
     "data": {
      "image/png": "[encoded data removed]",
      "text/plain": [
       "<matplotlib.figure.Figure at 0x29f2035fe80>"
      ]
     },
     "metadata": {
      "image/png": {
       "height": 273,
       "width": 380
      }
     },
     "output_type": "display_data"
    }
   ],
   "source": [
    "sns.set_style(\"whitegrid\", {'axes.grid' : False})\n",
    "\n",
    "scores_train = rfc.predict_proba(X_train)\n",
    "scores_test = rfc.predict_proba(X_test)\n",
    "\n",
    "y_scores_train = []\n",
    "y_scores_test = []\n",
    "for i in range(len(scores_train)):\n",
    "    y_scores_train.append(scores_train[i][1])\n",
    "\n",
    "for i in range(len(scores_test)):\n",
    "    y_scores_test.append(scores_test[i][1])\n",
    "    \n",
    "fpr_rf_train, tpr_rf_train, _ = roc_curve(y_train, y_scores_train, pos_label=1)\n",
    "fpr_rf_test, tpr_rf_test, _ = roc_curve(y_test, y_scores_test, pos_label=1)\n",
    "\n",
    "plt.plot(fpr_rf_train, tpr_rf_train, color='darkblue', label='Train AUC: %5f' %auc(fpr_rf_train, tpr_rf_train))\n",
    "plt.plot(fpr_rf_test, tpr_rf_test, color='red', ls='--', label='Test AUC: %5f' %auc(fpr_rf_test, tpr_rf_test))\n",
    "plt.title(\"Random Forest ROC Curve for Engineered Features\")\n",
    "plt.xlabel(\"False Positive Rate (FPR)\")\n",
    "plt.ylabel(\"True Positive Rate (TPR)\")\n",
    "plt.legend(loc='lower right')"
   ]
  },
  {
   "cell_type": "code",
   "execution_count": 47,
   "metadata": {},
   "outputs": [],
   "source": [
    "labels=['bot','human']\n",
    "def plot_confusion_matrix(cm, title='Confusion matrix', cmap=plt.cm.YlOrRd):\n",
    "    plt.imshow(cm, interpolation='nearest', cmap=cmap)\n",
    "    plt.title(title)\n",
    "    plt.colorbar(shrink=0.7)\n",
    "    tick_marks = np.arange(len(labels))\n",
    "    plt.xticks(tick_marks, labels, rotation=45, ha='right', fontsize=12)\n",
    "    plt.yticks(tick_marks, labels , fontsize=12)\n",
    "    plt.tight_layout()\n",
    "    plt.ylabel('True label', fontsize=12)\n",
    "    plt.xlabel('Predicted label', fontsize=12)"
   ]
  },
  {
   "cell_type": "code",
   "execution_count": 48,
   "metadata": {},
   "outputs": [
    {
     "name": "stdout",
     "output_type": "stream",
     "text": [
      "Confusion matrix\n",
      "[[400  35]\n",
      " [ 56 349]]\n"
     ]
    },
    {
     "data": {
      "image/png": "[encoded data removed]",
      "text/plain": [
       "<matplotlib.figure.Figure at 0x29f204af438>"
      ]
     },
     "metadata": {
      "image/png": {
       "height": 298,
       "width": 334
      }
     },
     "output_type": "display_data"
    }
   ],
   "source": [
    "# Create the predictions for Y training data\n",
    "preds = rfc.predict(X_test)\n",
    "cm = confusion_matrix(y_test, preds)\n",
    "np.set_printoptions(precision=2)\n",
    "print('Confusion matrix')\n",
    "print(cm)\n",
    "plt.figure()\n",
    "plot_confusion_matrix(cm)"
   ]
  },
  {
   "cell_type": "code",
   "execution_count": 49,
   "metadata": {},
   "outputs": [],
   "source": [
    "# Assign True Neg, False Pos, False Neg, True Pos variables\n",
    "cnf_matrix = np.array(cm).tolist()\n",
    "\n",
    "tn_fp, fn_tp = cm\n",
    "\n",
    "tn, fp = tn_fp\n",
    "fn, tp = fn_tp"
   ]
  },
  {
   "cell_type": "code",
   "execution_count": 50,
   "metadata": {},
   "outputs": [
    {
     "name": "stdout",
     "output_type": "stream",
     "text": [
      "Accuracy: 89.17 %\n",
      "Precision: 90.89 %\n",
      "Recall: 86.17 %\n",
      "Specificity: 91.95 %\n",
      "Misclassification Rate: 10.21 %\n"
     ]
    }
   ],
   "source": [
    "# Print Scores \n",
    "print(\"Accuracy:\",round(metrics.accuracy_score(y_test, preds)*100, 2),'%')\n",
    "print(\"Precision:\",round(metrics.precision_score(y_test, preds)*100, 2), '%')\n",
    "print(\"Recall:\",round(metrics.recall_score(y_test, preds)*100, 2), '%')\n",
    "print(\"Specificity:\", round((tn/(tn+fp))*100, 2), '%')\n",
    "print(\"Misclassification Rate:\", round((fp+fn)/(tn+fp+fn+tn)*100, 2), '%')"
   ]
  },
  {
   "cell_type": "code",
   "execution_count": 51,
   "metadata": {},
   "outputs": [],
   "source": [
    "pickle.dump(rfc, open(\"model/model_bot.pickle\", \"wb\"))"
   ]
  },
  {
   "cell_type": "code",
   "execution_count": 52,
   "metadata": {},
   "outputs": [],
   "source": [
    "model = pickle.load(open(\"model/model_bot.pickle\", 'rb'))"
   ]
  },
  {
   "cell_type": "code",
   "execution_count": 53,
   "metadata": {},
   "outputs": [
    {
     "data": {
      "text/html": [
       "<div>\n",
       "<style scoped>\n",
       "    .dataframe tbody tr th:only-of-type {\n",
       "        vertical-align: middle;\n",
       "    }\n",
       "\n",
       "    .dataframe tbody tr th {\n",
       "        vertical-align: top;\n",
       "    }\n",
       "\n",
       "    .dataframe thead th {\n",
       "        text-align: right;\n",
       "    }\n",
       "</style>\n",
       "<table border=\"1\" class=\"dataframe\">\n",
       "  <thead>\n",
       "    <tr style=\"text-align: right;\">\n",
       "      <th></th>\n",
       "      <th>status_punctuation</th>\n",
       "      <th>des_punctuation</th>\n",
       "      <th>status_quote</th>\n",
       "      <th>des_quote</th>\n",
       "      <th>des_link_count</th>\n",
       "      <th>des_hashtags</th>\n",
       "      <th>des_mentions</th>\n",
       "      <th>des_length</th>\n",
       "      <th>status_hashtags</th>\n",
       "      <th>status_mentions</th>\n",
       "      <th>...</th>\n",
       "      <th>location_NA</th>\n",
       "      <th>description_NA</th>\n",
       "      <th>url_NA</th>\n",
       "      <th>status_NA</th>\n",
       "      <th>has_extended_profile_NA</th>\n",
       "      <th>verified</th>\n",
       "      <th>followers_count</th>\n",
       "      <th>friends_count</th>\n",
       "      <th>statuses_count</th>\n",
       "      <th>bot</th>\n",
       "    </tr>\n",
       "  </thead>\n",
       "  <tbody>\n",
       "    <tr>\n",
       "      <th>0</th>\n",
       "      <td>17.0</td>\n",
       "      <td>2.0</td>\n",
       "      <td>96.0</td>\n",
       "      <td>2.0</td>\n",
       "      <td>1.0</td>\n",
       "      <td>0.0</td>\n",
       "      <td>0.0</td>\n",
       "      <td>85.0</td>\n",
       "      <td>2.0</td>\n",
       "      <td>0.0</td>\n",
       "      <td>...</td>\n",
       "      <td>0</td>\n",
       "      <td>0</td>\n",
       "      <td>0</td>\n",
       "      <td>0</td>\n",
       "      <td>0</td>\n",
       "      <td>False</td>\n",
       "      <td>1291</td>\n",
       "      <td>0</td>\n",
       "      <td>78554</td>\n",
       "      <td>1</td>\n",
       "    </tr>\n",
       "  </tbody>\n",
       "</table>\n",
       "<p>1 rows × 29 columns</p>\n",
       "</div>"
      ],
      "text/plain": [
       "   status_punctuation  des_punctuation  status_quote  des_quote  \\\n",
       "0                17.0              2.0          96.0        2.0   \n",
       "\n",
       "   des_link_count  des_hashtags  des_mentions  des_length  status_hashtags  \\\n",
       "0             1.0           0.0           0.0        85.0              2.0   \n",
       "\n",
       "   status_mentions  ...  location_NA  description_NA url_NA status_NA  \\\n",
       "0              0.0  ...            0               0      0         0   \n",
       "\n",
       "   has_extended_profile_NA  verified  followers_count  friends_count  \\\n",
       "0                        0     False             1291              0   \n",
       "\n",
       "   statuses_count  bot  \n",
       "0           78554    1  \n",
       "\n",
       "[1 rows x 29 columns]"
      ]
     },
     "execution_count": 53,
     "metadata": {},
     "output_type": "execute_result"
    }
   ],
   "source": [
    "result.head(1)"
   ]
  },
  {
   "cell_type": "code",
   "execution_count": 54,
   "metadata": {},
   "outputs": [],
   "source": [
    "url_bot_test = 'data/Bot/test_data_4_students.csv'\n",
    "df_bot_test = pd.read_csv(url_bot_test,sep='\\t', encoding = \"ISO-8859-1\",nrows=4)"
   ]
  },
  {
   "cell_type": "code",
   "execution_count": 55,
   "metadata": {
    "scrolled": false
   },
   "outputs": [
    {
     "data": {
      "text/html": [
       "<div>\n",
       "<style scoped>\n",
       "    .dataframe tbody tr th:only-of-type {\n",
       "        vertical-align: middle;\n",
       "    }\n",
       "\n",
       "    .dataframe tbody tr th {\n",
       "        vertical-align: top;\n",
       "    }\n",
       "\n",
       "    .dataframe thead th {\n",
       "        text-align: right;\n",
       "    }\n",
       "</style>\n",
       "<table border=\"1\" class=\"dataframe\">\n",
       "  <thead>\n",
       "    <tr style=\"text-align: right;\">\n",
       "      <th></th>\n",
       "      <th>screen_name</th>\n",
       "      <th>location</th>\n",
       "      <th>description</th>\n",
       "      <th>url</th>\n",
       "      <th>created_at</th>\n",
       "      <th>lang</th>\n",
       "      <th>status</th>\n",
       "      <th>has_extended_profile</th>\n",
       "      <th>name</th>\n",
       "    </tr>\n",
       "  </thead>\n",
       "  <tbody>\n",
       "    <tr>\n",
       "      <th>0</th>\n",
       "      <td>__keating</td>\n",
       "      <td>brooklyn</td>\n",
       "      <td>lgbt editor at @buzzfeed. shannon.keating@buzz...</td>\n",
       "      <td>https://t.co/QneJmYRyhj</td>\n",
       "      <td>Tue Jan 07 23:26:52 +0000 2014</td>\n",
       "      <td>en</td>\n",
       "      <td>{'created_at': 'Tue Apr 11 15:31:51 +0000 2017...</td>\n",
       "      <td>False</td>\n",
       "      <td>shannon keating</td>\n",
       "    </tr>\n",
       "    <tr>\n",
       "      <th>1</th>\n",
       "      <td>_callme_Dani</td>\n",
       "      <td>Los Angeles, CA</td>\n",
       "      <td>News Curation Editor @BuzzFeedNews \\rI do a lo...</td>\n",
       "      <td>NaN</td>\n",
       "      <td>Fri Feb 14 19:45:56 +0000 2014</td>\n",
       "      <td>en</td>\n",
       "      <td>{'created_at': 'Tue Apr 11 00:56:02 +0000 2017...</td>\n",
       "      <td>False</td>\n",
       "      <td>Danielle Hopkins</td>\n",
       "    </tr>\n",
       "    <tr>\n",
       "      <th>2</th>\n",
       "      <td>_little_britt_</td>\n",
       "      <td>NaN</td>\n",
       "      <td>Family comes first! Also I am in love with piz...</td>\n",
       "      <td>https://t.co/E7DE1cJB7e</td>\n",
       "      <td>8/18/2012 15:13</td>\n",
       "      <td>en</td>\n",
       "      <td>{'place': None, 'retweeted': False, 'favorited...</td>\n",
       "      <td>True</td>\n",
       "      <td>Brittney Smith</td>\n",
       "    </tr>\n",
       "    <tr>\n",
       "      <th>3</th>\n",
       "      <td>134k5</td>\n",
       "      <td>NaN</td>\n",
       "      <td>@BuzzFeedJapan   @cnet_japan / DMÐÜã_...</td>\n",
       "      <td>https://t.co/Cbguzs2PjT</td>\n",
       "      <td>Sun Jan 17 07:11:45 +0000 2016</td>\n",
       "      <td>ja</td>\n",
       "      <td>{'created_at': 'Sat Apr 08 08:41:08 +0000 2017...</td>\n",
       "      <td>True</td>\n",
       "      <td>Keigo Isashi</td>\n",
       "    </tr>\n",
       "  </tbody>\n",
       "</table>\n",
       "</div>"
      ],
      "text/plain": [
       "      screen_name         location  \\\n",
       "0       __keating         brooklyn   \n",
       "1    _callme_Dani  Los Angeles, CA   \n",
       "2  _little_britt_              NaN   \n",
       "3           134k5              NaN   \n",
       "\n",
       "                                         description                      url  \\\n",
       "0  lgbt editor at @buzzfeed. shannon.keating@buzz...  https://t.co/QneJmYRyhj   \n",
       "1  News Curation Editor @BuzzFeedNews \\rI do a lo...                      NaN   \n",
       "2  Family comes first! Also I am in love with piz...  https://t.co/E7DE1cJB7e   \n",
       "3  @BuzzFeedJapan   @cnet_japan / DMÐÜã_...  https://t.co/Cbguzs2PjT   \n",
       "\n",
       "                       created_at lang  \\\n",
       "0  Tue Jan 07 23:26:52 +0000 2014   en   \n",
       "1  Fri Feb 14 19:45:56 +0000 2014   en   \n",
       "2                 8/18/2012 15:13   en   \n",
       "3  Sun Jan 17 07:11:45 +0000 2016   ja   \n",
       "\n",
       "                                              status  has_extended_profile  \\\n",
       "0  {'created_at': 'Tue Apr 11 15:31:51 +0000 2017...                 False   \n",
       "1  {'created_at': 'Tue Apr 11 00:56:02 +0000 2017...                 False   \n",
       "2  {'place': None, 'retweeted': False, 'favorited...                  True   \n",
       "3  {'created_at': 'Sat Apr 08 08:41:08 +0000 2017...                  True   \n",
       "\n",
       "               name  \n",
       "0   shannon keating  \n",
       "1  Danielle Hopkins  \n",
       "2    Brittney Smith  \n",
       "3      Keigo Isashi  "
      ]
     },
     "execution_count": 55,
     "metadata": {},
     "output_type": "execute_result"
    }
   ],
   "source": [
    "text_cols2=df_bot_test[['screen_name','location','description','url','created_at','lang','status','has_extended_profile','name']].copy()\n",
    "text_cols2.head()"
   ]
  },
  {
   "cell_type": "code",
   "execution_count": 56,
   "metadata": {},
   "outputs": [],
   "source": [
    "screen_name = \"Nishan_CW\"\n",
    "location = \"Western Sri Lanka\"\n",
    "description = \"Social Innovator | System Designer | Realist | Humanitarian\"\n",
    "url = \"https://t.co/zW9UUFzeWa\"\n",
    "created_at = \"Mon Sep 19 04:59:39 +0000 2011\"\n",
    "lang = \"\"\n",
    "status = \"{ 'created_at': 'Wed Jan 08 12:34:56 +0000 2020', 'id': 1214888214726496300, 'id_str': '1214888214726496256', 'text': 'Advances in neural networks and other techniques promise to transform health care while raising profound questions… https://t.co/AWcRAgOXKM', 'truncated': true, 'entities': { 'hashtags': [], 'symbols': [], 'user_mentions': [], 'urls': [ { 'url': 'https://t.co/AWcRAgOXKM', 'expanded_url': 'https://twitter.com/i/web/status/1214888214726496256', 'display_url': 'twitter.com/i/web/status/1…', 'indices': [ 116, 139 ] } ] }, 'source': '<a href='http://twitter.com/download/android' rel='nofollow'>Twitter for Android</a>', 'in_reply_to_status_id': null, 'in_reply_to_status_id_str': null, 'in_reply_to_user_id': null, 'in_reply_to_user_id_str': null, 'in_reply_to_screen_name': null, 'geo': null, 'coordinates': null, 'place': { 'id': '173c2bb9d42baaa5', 'url': 'https://api.twitter.com/1.1/geo/id/173c2bb9d42baaa5.json', 'place_type': 'country', 'name': 'Sri Lanka', 'full_name': 'Sri Lanka', 'country_code': 'LK', 'country': 'Sri Lanka', 'contained_within': [], 'bounding_box': { 'type': 'Polygon', 'coordinates': [ [ [ 79.6505263, 5.9213829 ], [ 81.8787816, 5.9213829 ], [ 81.8787816, 9.8359375 ], [ 79.6505263, 9.8359375 ] ] ] }, 'attributes': {} }, 'contributors': null, 'is_quote_status': false, 'retweet_count': 0, 'favorite_count': 0, 'favorited': false, 'retweeted': false, 'possibly_sensitive': false, 'lang': 'en' }\"\"{ 'created_at': 'Wed Jan 08 12:34:56 +0000 2020', 'id': 1214888214726496300, 'id_str': '1214888214726496256', 'text': 'Advances in neural networks and other techniques promise to transform health care while raising profound questions… https://t.co/AWcRAgOXKM', 'truncated': true, 'entities': { 'hashtags': [], 'symbols': [], 'user_mentions': [], 'urls': [ { 'url': 'https://t.co/AWcRAgOXKM', 'expanded_url': 'https://twitter.com/i/web/status/1214888214726496256', 'display_url': 'twitter.com/i/web/status/1…', 'indices': [ 116, 139 ] } ] }, 'source': '<a href='http://twitter.com/download/android' rel='nofollow'>Twitter for Android</a>', 'in_reply_to_status_id': null, 'in_reply_to_status_id_str': null, 'in_reply_to_user_id': null, 'in_reply_to_user_id_str': null, 'in_reply_to_screen_name': null, 'geo': null, 'coordinates': null, 'place': { 'id': '173c2bb9d42baaa5', 'url': 'https://api.twitter.com/1.1/geo/id/173c2bb9d42baaa5.json', 'place_type': 'country', 'name': 'Sri Lanka', 'full_name': 'Sri Lanka', 'country_code': 'LK', 'country': 'Sri Lanka', 'contained_within': [], 'bounding_box': { 'type': 'Polygon', 'coordinates': [ [ [ 79.6505263, 5.9213829 ], [ 81.8787816, 5.9213829 ], [ 81.8787816, 9.8359375 ], [ 79.6505263, 9.8359375 ] ] ] }, 'attributes': {} }, 'contributors': null, 'is_quote_status': false, 'retweet_count': 0, 'favorite_count': 0, 'favorited': false, 'retweeted': false, 'possibly_sensitive': false, 'lang': 'en' }\"\n",
    "has_extended_profile = True\n",
    "name = \"Nishan Chathuranga\"\n",
    "verified = False\n",
    "followers_count = 248\n",
    "friends_count = 167\n",
    "statuses_count = 2560\n",
    "listed_count = 6"
   ]
  },
  {
   "cell_type": "code",
   "execution_count": 57,
   "metadata": {},
   "outputs": [],
   "source": [
    "df_bot_test = pd.DataFrame(columns=[\"screen_name\", \"location\", \"description\",\"url\",\"created_at\",\"lang\",\"status\",\"has_extended_profile\",\"name\",\"verified\",\"followers_count\",\"friends_count\",\"statuses_count\",\"listed_count\"], data=[[screen_name, location, description, url, created_at,lang,status,has_extended_profile,name,verified,followers_count,friends_count, statuses_count,listed_count]])"
   ]
  },
  {
   "cell_type": "code",
   "execution_count": 58,
   "metadata": {
    "scrolled": true
   },
   "outputs": [
    {
     "data": {
      "text/html": [
       "<div>\n",
       "<style scoped>\n",
       "    .dataframe tbody tr th:only-of-type {\n",
       "        vertical-align: middle;\n",
       "    }\n",
       "\n",
       "    .dataframe tbody tr th {\n",
       "        vertical-align: top;\n",
       "    }\n",
       "\n",
       "    .dataframe thead th {\n",
       "        text-align: right;\n",
       "    }\n",
       "</style>\n",
       "<table border=\"1\" class=\"dataframe\">\n",
       "  <thead>\n",
       "    <tr style=\"text-align: right;\">\n",
       "      <th></th>\n",
       "      <th>screen_name</th>\n",
       "      <th>location</th>\n",
       "      <th>description</th>\n",
       "      <th>url</th>\n",
       "      <th>created_at</th>\n",
       "      <th>lang</th>\n",
       "      <th>status</th>\n",
       "      <th>has_extended_profile</th>\n",
       "      <th>name</th>\n",
       "      <th>verified</th>\n",
       "      <th>followers_count</th>\n",
       "      <th>friends_count</th>\n",
       "      <th>statuses_count</th>\n",
       "      <th>listed_count</th>\n",
       "    </tr>\n",
       "  </thead>\n",
       "  <tbody>\n",
       "    <tr>\n",
       "      <th>0</th>\n",
       "      <td>Nishan_CW</td>\n",
       "      <td>Western Sri Lanka</td>\n",
       "      <td>Social Innovator | System Designer | Realist |...</td>\n",
       "      <td>https://t.co/zW9UUFzeWa</td>\n",
       "      <td>Mon Sep 19 04:59:39 +0000 2011</td>\n",
       "      <td></td>\n",
       "      <td>{ 'created_at': 'Wed Jan 08 12:34:56 +0000 202...</td>\n",
       "      <td>True</td>\n",
       "      <td>Nishan Chathuranga</td>\n",
       "      <td>False</td>\n",
       "      <td>248</td>\n",
       "      <td>167</td>\n",
       "      <td>2560</td>\n",
       "      <td>6</td>\n",
       "    </tr>\n",
       "  </tbody>\n",
       "</table>\n",
       "</div>"
      ],
      "text/plain": [
       "  screen_name           location  \\\n",
       "0   Nishan_CW  Western Sri Lanka   \n",
       "\n",
       "                                         description                      url  \\\n",
       "0  Social Innovator | System Designer | Realist |...  https://t.co/zW9UUFzeWa   \n",
       "\n",
       "                       created_at lang  \\\n",
       "0  Mon Sep 19 04:59:39 +0000 2011        \n",
       "\n",
       "                                              status  has_extended_profile  \\\n",
       "0  { 'created_at': 'Wed Jan 08 12:34:56 +0000 202...                  True   \n",
       "\n",
       "                 name  verified  followers_count  friends_count  \\\n",
       "0  Nishan Chathuranga     False              248            167   \n",
       "\n",
       "   statuses_count  listed_count  \n",
       "0            2560             6  "
      ]
     },
     "execution_count": 58,
     "metadata": {},
     "output_type": "execute_result"
    }
   ],
   "source": [
    "df_bot_test"
   ]
  },
  {
   "cell_type": "code",
   "execution_count": 59,
   "metadata": {},
   "outputs": [
    {
     "data": {
      "text/html": [
       "<div>\n",
       "<style scoped>\n",
       "    .dataframe tbody tr th:only-of-type {\n",
       "        vertical-align: middle;\n",
       "    }\n",
       "\n",
       "    .dataframe tbody tr th {\n",
       "        vertical-align: top;\n",
       "    }\n",
       "\n",
       "    .dataframe thead th {\n",
       "        text-align: right;\n",
       "    }\n",
       "</style>\n",
       "<table border=\"1\" class=\"dataframe\">\n",
       "  <thead>\n",
       "    <tr style=\"text-align: right;\">\n",
       "      <th></th>\n",
       "      <th>screen_name</th>\n",
       "      <th>location</th>\n",
       "      <th>description</th>\n",
       "      <th>url</th>\n",
       "      <th>created_at</th>\n",
       "      <th>lang</th>\n",
       "      <th>status</th>\n",
       "      <th>has_extended_profile</th>\n",
       "      <th>name</th>\n",
       "    </tr>\n",
       "  </thead>\n",
       "  <tbody>\n",
       "    <tr>\n",
       "      <th>0</th>\n",
       "      <td>Nishan_CW</td>\n",
       "      <td>Western Sri Lanka</td>\n",
       "      <td>Social Innovator | System Designer | Realist |...</td>\n",
       "      <td>https://t.co/zW9UUFzeWa</td>\n",
       "      <td>Mon Sep 19 04:59:39 +0000 2011</td>\n",
       "      <td></td>\n",
       "      <td>{ 'created_at': 'Wed Jan 08 12:34:56 +0000 202...</td>\n",
       "      <td>True</td>\n",
       "      <td>Nishan Chathuranga</td>\n",
       "    </tr>\n",
       "  </tbody>\n",
       "</table>\n",
       "</div>"
      ],
      "text/plain": [
       "  screen_name           location  \\\n",
       "0   Nishan_CW  Western Sri Lanka   \n",
       "\n",
       "                                         description                      url  \\\n",
       "0  Social Innovator | System Designer | Realist |...  https://t.co/zW9UUFzeWa   \n",
       "\n",
       "                       created_at lang  \\\n",
       "0  Mon Sep 19 04:59:39 +0000 2011        \n",
       "\n",
       "                                              status  has_extended_profile  \\\n",
       "0  { 'created_at': 'Wed Jan 08 12:34:56 +0000 202...                  True   \n",
       "\n",
       "                 name  \n",
       "0  Nishan Chathuranga  "
      ]
     },
     "execution_count": 59,
     "metadata": {},
     "output_type": "execute_result"
    }
   ],
   "source": [
    "text_cols2=df_bot_test[['screen_name','location','description','url','created_at','lang','status','has_extended_profile','name']].copy()\n",
    "text_cols2.head()"
   ]
  },
  {
   "cell_type": "code",
   "execution_count": 60,
   "metadata": {},
   "outputs": [],
   "source": [
    "point = []"
   ]
  },
  {
   "cell_type": "code",
   "execution_count": 61,
   "metadata": {},
   "outputs": [],
   "source": [
    "text_cols2.rename(columns={'screen_name':'screen_name_processed'}, inplace=True)\n",
    "text_cols2.rename(columns={'name':'name_processed'}, inplace=True)"
   ]
  },
  {
   "cell_type": "code",
   "execution_count": 62,
   "metadata": {},
   "outputs": [],
   "source": [
    "def convert1(variable):\n",
    "    stop_words = set(stopwords.words('english'))\n",
    "    text_cols2[variable+'_processed_num_count'] = \"\"\n",
    "    for i, row1 in text_cols2.iterrows():\n",
    "        row1[variable+'_processed'] = row1[variable+'_processed'].lower() #Convert text to lowercase\n",
    "        row1[variable+'_processed_num_count'] = sum(ch.isdigit() for ch in row1[variable+'_processed']) #create new column to get number of numbers\n",
    "        row1[variable+'_processed'] = re.sub(r'\\d+','', row1[variable+'_processed']) #Remove numbers\n",
    "        row1[variable+'_processed']= row1[variable+'_processed'].translate(str.maketrans('','',string.punctuation)) #Remove punctuation\n",
    "        row1[variable+'_processed'] = row1[variable+'_processed'].strip() #Remove whitespaces\n",
    "        row1[variable+'_processed'] = [i for i in word_tokenize(row1[variable+'_processed']) if not i in stop_words] #Tokenization - REMOVE STOP WORDS\n",
    "        for word in row1[variable+'_processed']:\n",
    "            row1[variable+'_processed'] = lemmatizer.lemmatize(word)\n",
    "        text_cols2.at[i, 'screen_name_processed'] = row1['screen_name_processed']\n",
    "        text_cols2.at[i, 'screen_name_processed_num_count'] = row1['screen_name_processed_num_count']"
   ]
  },
  {
   "cell_type": "code",
   "execution_count": 63,
   "metadata": {},
   "outputs": [
    {
     "data": {
      "text/html": [
       "<div>\n",
       "<style scoped>\n",
       "    .dataframe tbody tr th:only-of-type {\n",
       "        vertical-align: middle;\n",
       "    }\n",
       "\n",
       "    .dataframe tbody tr th {\n",
       "        vertical-align: top;\n",
       "    }\n",
       "\n",
       "    .dataframe thead th {\n",
       "        text-align: right;\n",
       "    }\n",
       "</style>\n",
       "<table border=\"1\" class=\"dataframe\">\n",
       "  <thead>\n",
       "    <tr style=\"text-align: right;\">\n",
       "      <th></th>\n",
       "      <th>screen_name_processed</th>\n",
       "      <th>location</th>\n",
       "      <th>description</th>\n",
       "      <th>url</th>\n",
       "      <th>created_at</th>\n",
       "      <th>lang</th>\n",
       "      <th>status</th>\n",
       "      <th>has_extended_profile</th>\n",
       "      <th>name_processed</th>\n",
       "    </tr>\n",
       "  </thead>\n",
       "  <tbody>\n",
       "    <tr>\n",
       "      <th>0</th>\n",
       "      <td>Nishan_CW</td>\n",
       "      <td>Western Sri Lanka</td>\n",
       "      <td>Social Innovator | System Designer | Realist |...</td>\n",
       "      <td>https://t.co/zW9UUFzeWa</td>\n",
       "      <td>Mon Sep 19 04:59:39 +0000 2011</td>\n",
       "      <td></td>\n",
       "      <td>{ 'created_at': 'Wed Jan 08 12:34:56 +0000 202...</td>\n",
       "      <td>True</td>\n",
       "      <td>Nishan Chathuranga</td>\n",
       "    </tr>\n",
       "  </tbody>\n",
       "</table>\n",
       "</div>"
      ],
      "text/plain": [
       "  screen_name_processed           location  \\\n",
       "0             Nishan_CW  Western Sri Lanka   \n",
       "\n",
       "                                         description                      url  \\\n",
       "0  Social Innovator | System Designer | Realist |...  https://t.co/zW9UUFzeWa   \n",
       "\n",
       "                       created_at lang  \\\n",
       "0  Mon Sep 19 04:59:39 +0000 2011        \n",
       "\n",
       "                                              status  has_extended_profile  \\\n",
       "0  { 'created_at': 'Wed Jan 08 12:34:56 +0000 202...                  True   \n",
       "\n",
       "       name_processed  \n",
       "0  Nishan Chathuranga  "
      ]
     },
     "execution_count": 63,
     "metadata": {},
     "output_type": "execute_result"
    }
   ],
   "source": [
    "text_cols2.head(4)"
   ]
  },
  {
   "cell_type": "code",
   "execution_count": 64,
   "metadata": {},
   "outputs": [],
   "source": [
    "convert1('screen_name')"
   ]
  },
  {
   "cell_type": "code",
   "execution_count": 65,
   "metadata": {
    "scrolled": true
   },
   "outputs": [],
   "source": [
    "text_cols2['name_processed_num_count'] = \"\"\n",
    "for index, row in text_cols2.iterrows():\n",
    "    row['name_processed'] = row['name_processed'].lower() #Convert text to lowercase\n",
    "    row['name_processed_num_count'] = (sum(c.isdigit() for c in row['name_processed'])) #create new column to get number of numbers\n",
    "    row['name_processed'] = re.sub(r'\\d+','', row['name_processed']) #Remove numbers\n",
    "    row['name_processed']= row['name_processed'].translate(str.maketrans('','',string.punctuation)) #Remove punctuation\n",
    "    row['name_processed'] = row['name_processed'].strip() #Remove whitespaces\n",
    "    row['name_processed'] = [i for i in word_tokenize(row['name_processed']) if not i in stop_words] #Tokenization - REMOVE STOP WORDS\n",
    "    text_cols2.at[index, 'name_processed'] = row['name_processed']\n",
    "    text_cols2.at[index, 'name_processed_num_count'] = row['name_processed_num_count']"
   ]
  },
  {
   "cell_type": "code",
   "execution_count": 66,
   "metadata": {
    "scrolled": true
   },
   "outputs": [
    {
     "data": {
      "text/html": [
       "<div>\n",
       "<style scoped>\n",
       "    .dataframe tbody tr th:only-of-type {\n",
       "        vertical-align: middle;\n",
       "    }\n",
       "\n",
       "    .dataframe tbody tr th {\n",
       "        vertical-align: top;\n",
       "    }\n",
       "\n",
       "    .dataframe thead th {\n",
       "        text-align: right;\n",
       "    }\n",
       "</style>\n",
       "<table border=\"1\" class=\"dataframe\">\n",
       "  <thead>\n",
       "    <tr style=\"text-align: right;\">\n",
       "      <th></th>\n",
       "      <th>screen_name_processed</th>\n",
       "      <th>location</th>\n",
       "      <th>description</th>\n",
       "      <th>url</th>\n",
       "      <th>created_at</th>\n",
       "      <th>lang</th>\n",
       "      <th>status</th>\n",
       "      <th>has_extended_profile</th>\n",
       "      <th>name_processed</th>\n",
       "      <th>screen_name_processed_num_count</th>\n",
       "      <th>name_processed_num_count</th>\n",
       "    </tr>\n",
       "  </thead>\n",
       "  <tbody>\n",
       "    <tr>\n",
       "      <th>0</th>\n",
       "      <td>nishancw</td>\n",
       "      <td>Western Sri Lanka</td>\n",
       "      <td>Social Innovator | System Designer | Realist |...</td>\n",
       "      <td>https://t.co/zW9UUFzeWa</td>\n",
       "      <td>Mon Sep 19 04:59:39 +0000 2011</td>\n",
       "      <td></td>\n",
       "      <td>{ 'created_at': 'Wed Jan 08 12:34:56 +0000 202...</td>\n",
       "      <td>True</td>\n",
       "      <td>[nishan, chathuranga]</td>\n",
       "      <td>0</td>\n",
       "      <td>0</td>\n",
       "    </tr>\n",
       "  </tbody>\n",
       "</table>\n",
       "</div>"
      ],
      "text/plain": [
       "  screen_name_processed           location  \\\n",
       "0              nishancw  Western Sri Lanka   \n",
       "\n",
       "                                         description                      url  \\\n",
       "0  Social Innovator | System Designer | Realist |...  https://t.co/zW9UUFzeWa   \n",
       "\n",
       "                       created_at lang  \\\n",
       "0  Mon Sep 19 04:59:39 +0000 2011        \n",
       "\n",
       "                                              status  has_extended_profile  \\\n",
       "0  { 'created_at': 'Wed Jan 08 12:34:56 +0000 202...                  True   \n",
       "\n",
       "          name_processed screen_name_processed_num_count  \\\n",
       "0  [nishan, chathuranga]                               0   \n",
       "\n",
       "  name_processed_num_count  \n",
       "0                        0  "
      ]
     },
     "execution_count": 66,
     "metadata": {},
     "output_type": "execute_result"
    }
   ],
   "source": [
    "text_cols2.head()"
   ]
  },
  {
   "cell_type": "code",
   "execution_count": 67,
   "metadata": {},
   "outputs": [],
   "source": [
    "word_list = r'bot|b0t|cannabis|tweet me|mishear|follow me|updates every|gorilla|yes_ofc|forget' \\\n",
    "                    r'expos|kill|clit|bbb|butt|fuck|XXX|sex|truthe|fake|anony|free|virus|funky|RNA|kuck|jargon' \\\n",
    "                    r'nerd|swag|jack|bang|bonsai|chick|prison|paper|pokem|xx|freak|ffd|dunia|clone|genie|bbb' \\\n",
    "                    r'ffd|onlyman|emoji|joke|troll|droop|free|every|wow|cheese|yeah|bio|magic|wizard|face'"
   ]
  },
  {
   "cell_type": "code",
   "execution_count": 68,
   "metadata": {},
   "outputs": [
    {
     "data": {
      "text/plain": [
       "'ban|game|san|amp|tech|arrested|https|won|teen|st|showbiz|order|rt|ex|topnews|immigration|cleveland|county|2015|money|politics|want|charged|sanjose|judge|win|business|baltimore|kansas|gun|sports|need|gets|open|black|local|don|entertainment|newyork|chicago|health|crime|rt chrixmorgan|police investigating|attorney general|city council|airport https|game sports|celebs news|bay area|blacktolive https|los angeles|immigration order|man accused|white sox|college football|anti trump|local news|trump immigration|rt giselleevns|rt danageezus|say https|cleveland politics|world cup|chicago news|politics news|trump order|cleveland news|north dakota|shooting https|man charged|news https|protest trump|rt bleepthepolice|rt trayneshacole|local sandiego|climate change|blacklivesmatter https|super bowl|news kansas|america https|trump travel|man killed|pleads guilty|pay wall|police chief|san francisco|australian open|man shot|st louis|travel ban|syria https|police blotter|rt gloed_up|breaking trump|rt andyhashtagger|tom brady|police man|business news|president trump|world news|man arrested|local atlanta|cleveland sports|trump https|texas news|video https|fatal shooting|politics trump|orleans saints|wall https|kellyanne conway|new orleans|black people|man dead|pictures https|detroit news|order https|breaking la|golden state|san antonio|fort worth|live https|live updates|ban https|news chicago|san jose|bot|b0t|cannabis|tweet me|mishear|follow me|updates every|gorilla|yes_ofc|forgetexpos|kill|clit|bbb|butt|fuck|XXX|sex|truthe|fake|anony|free|virus|funky|RNA|kuck|jargonnerd|swag|jack|bang|bonsai|chick|prison|paper|pokem|xx|freak|ffd|dunia|clone|genie|bbbffd|onlyman|emoji|joke|troll|droop|free|every|wow|cheese|yeah|bio|magic|wizard|face'"
      ]
     },
     "execution_count": 68,
     "metadata": {},
     "output_type": "execute_result"
    }
   ],
   "source": [
    "listofwords = pickle.load(open(\"model/words_in_not_credible.pickle\", 'rb'))\n",
    "listofwords2 = pickle.load(open(\"model/word_couples_in_not_credible.pickle\", 'rb'))\n",
    "list_ofwords=list(listofwords)\n",
    "str1 = '|'.join(str(e) for e in list_ofwords)\n",
    "list_ofwords2=list(listofwords2)\n",
    "str2 = '|'.join(str(e) for e in list_ofwords2)\n",
    "word_list = str1 + '|' + str2 + '|' + word_list\n",
    "word_list"
   ]
  },
  {
   "cell_type": "code",
   "execution_count": 69,
   "metadata": {
    "scrolled": true
   },
   "outputs": [],
   "source": [
    "text_cols2['screen_name_binary'] = df_bot_test.screen_name.str.contains(word_list, case=False, na=False)\n",
    "text_cols2['name_binary'] = df_bot_test.name.str.contains(word_list, case=False, na=False)\n",
    "text_cols2['description_binary'] = df_bot_test.description.str.contains(word_list, case=False, na=False)\n",
    "text_cols2['status_binary'] = df_bot_test.status.str.contains(word_list, case=False, na=False)"
   ]
  },
  {
   "cell_type": "code",
   "execution_count": 70,
   "metadata": {
    "scrolled": true
   },
   "outputs": [],
   "source": [
    "text_cols2['listed_count_binary'] = (df_bot_test.listed_count>20000)==False"
   ]
  },
  {
   "cell_type": "code",
   "execution_count": 71,
   "metadata": {
    "scrolled": false
   },
   "outputs": [],
   "source": [
    "for column in df_bot_test:\n",
    "    text_cols2[column+'_NA'] = np.where(df_bot_test[column].isnull(), 1, 0)"
   ]
  },
  {
   "cell_type": "code",
   "execution_count": 72,
   "metadata": {},
   "outputs": [],
   "source": [
    "def impute_na(variable):\n",
    "    for i, row in text_cols2[text_cols2[variable].isnull()].iterrows():\n",
    "        obs_sample = text_cols2[variable].dropna().sample(1, random_state=int(row.screen_name_processed_num_count))\n",
    "        obs_sample.index = [i]\n",
    "        text_cols2.at[i, variable] = obs_sample\n",
    "\n",
    "impute_na('has_extended_profile')"
   ]
  },
  {
   "cell_type": "code",
   "execution_count": 73,
   "metadata": {
    "scrolled": true
   },
   "outputs": [
    {
     "data": {
      "text/plain": [
       "0    True\n",
       "Name: has_extended_profile, dtype: bool"
      ]
     },
     "execution_count": 73,
     "metadata": {},
     "output_type": "execute_result"
    }
   ],
   "source": [
    "text_cols2['has_extended_profile'].head(20)"
   ]
  },
  {
   "cell_type": "code",
   "execution_count": 74,
   "metadata": {},
   "outputs": [],
   "source": [
    "text_cols2.has_extended_profile = text_cols2.has_extended_profile.astype(int)"
   ]
  },
  {
   "cell_type": "code",
   "execution_count": 75,
   "metadata": {},
   "outputs": [],
   "source": [
    "df_bot_test['des_hashtags'] = df_bot_test['description'].str.count('#')\n",
    "df_bot_test['des_mentions'] = df_bot_test['description'].str.count('@')\n",
    "df_bot_test['des_length'] = df_bot_test['description'].str.len()\n",
    "df_bot_test['status_hashtags'] = df_bot_test['status'].str.count('#')\n",
    "df_bot_test['status_mentions'] = df_bot_test['status'].str.count('@')\n",
    "df_bot_test['status_length'] = df_bot_test['status'].str.len()\n",
    "df_bot_test['des_link_count'] = df_bot_test['description'].str.count(':')\n",
    "\n",
    "df_bot_test['status_punctuation'] = df_bot_test['status'].str.count('\\.')\n",
    "df_bot_test['des_punctuation'] = df_bot_test['description'].str.count('\\.')\n",
    "df_bot_test['status_quote'] = df_bot_test['status'].str.count('\"')\n",
    "df_bot_test['des_quote'] = df_bot_test['description'].str.count('\"')"
   ]
  },
  {
   "cell_type": "code",
   "execution_count": 76,
   "metadata": {},
   "outputs": [],
   "source": [
    "feature_set = df_bot_test[['status_punctuation','des_punctuation','status_quote','des_quote','des_link_count','des_hashtags', 'des_mentions', 'des_length', 'status_hashtags','status_mentions','status_length']].copy().fillna(0)"
   ]
  },
  {
   "cell_type": "code",
   "execution_count": 77,
   "metadata": {},
   "outputs": [],
   "source": [
    "text_cols2.rename(columns={'has_extended_profile':'has_extended_profile_processed'}, inplace=True)\n",
    "text_cols_features = text_cols2[['has_extended_profile_processed','name_processed_num_count','screen_name_processed_num_count','screen_name_binary', 'name_binary', 'description_binary', 'status_binary', 'listed_count_binary','location_NA','description_NA','url_NA','status_NA','has_extended_profile_NA']].copy()\n",
    "test_data_features = df_bot_test[['verified', 'followers_count', 'friends_count', 'statuses_count']].copy()\n",
    "\n",
    "result = pd.concat([feature_set,text_cols_features, test_data_features], axis=1, sort=False)"
   ]
  },
  {
   "cell_type": "code",
   "execution_count": 78,
   "metadata": {
    "scrolled": true
   },
   "outputs": [],
   "source": [
    "point = result.head(1).to_numpy()"
   ]
  },
  {
   "cell_type": "code",
   "execution_count": 79,
   "metadata": {},
   "outputs": [],
   "source": [
    "# point = [1, 0, 0, False, False, True, False, True, 0, 0, 0, 0, 0, True,\n",
    "#        1541514, 68, 14230]"
   ]
  },
  {
   "cell_type": "code",
   "execution_count": 80,
   "metadata": {},
   "outputs": [
    {
     "data": {
      "text/plain": [
       "array([[34, 0, 0, 0, 0, 0, 0, 59, 0, 0, 2884, 1, 0, 0, False, False,\n",
       "        True, True, True, 0, 0, 0, 0, 0, False, 248, 167, 2560]],\n",
       "      dtype=object)"
      ]
     },
     "execution_count": 80,
     "metadata": {},
     "output_type": "execute_result"
    }
   ],
   "source": [
    "point"
   ]
  },
  {
   "cell_type": "code",
   "execution_count": 81,
   "metadata": {},
   "outputs": [
    {
     "data": {
      "text/plain": [
       "0"
      ]
     },
     "execution_count": 81,
     "metadata": {},
     "output_type": "execute_result"
    }
   ],
   "source": [
    "# pred = model.predict(np.asarray(point).reshape(1, -1))\n",
    "# pred[0]\n",
    "pred = model.predict(point.reshape(1, -1))\n",
    "pred[0]"
   ]
  },
  {
   "cell_type": "code",
   "execution_count": null,
   "metadata": {},
   "outputs": [],
   "source": []
  }
 ],
 "metadata": {
  "kernelspec": {
   "display_name": "Python 3",
   "language": "python",
   "name": "python3"
  },
  "language_info": {
   "codemirror_mode": {
    "name": "ipython",
    "version": 3
   },
   "file_extension": ".py",
   "mimetype": "text/x-python",
   "name": "python",
   "nbconvert_exporter": "python",
   "pygments_lexer": "ipython3",
   "version": "3.7.4"
  }
 },
 "nbformat": 4,
 "nbformat_minor": 2
}
